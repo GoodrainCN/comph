{
 "cells": [
  {
   "cell_type": "markdown",
   "metadata": {
    "slideshow": {
     "slide_type": "slide"
    }
   },
   "source": [
    "### The simulation of APFSDS\n",
    "Armor Piercing Fin Stabilized Discarding Sabot,APFSDS"
   ]
  },
  {
   "cell_type": "markdown",
   "metadata": {
    "slideshow": {
     "slide_type": "slide"
    }
   },
   "source": [
    "![shell](img/APS.jpeg)"
   ]
  },
  {
   "cell_type": "markdown",
   "metadata": {
    "slideshow": {
     "slide_type": "slide"
    }
   },
   "source": [
    "![shell](img/An-Armour-Piercing-Fin-Stabilized-Discarding-Sabot-APFSDS-projectile.png)"
   ]
  },
  {
   "cell_type": "markdown",
   "metadata": {
    "slideshow": {
     "slide_type": "slide"
    }
   },
   "source": [
    "### How it works?\n",
    "\n",
    "![gif](img/APFSDS.gif)"
   ]
  },
  {
   "cell_type": "markdown",
   "metadata": {
    "slideshow": {
     "slide_type": "slide"
    }
   },
   "source": [
    "![gif](img/hitAP.gif)"
   ]
  },
  {
   "cell_type": "markdown",
   "metadata": {
    "slideshow": {
     "slide_type": "slide"
    }
   },
   "source": [
    "### Import External Modules"
   ]
  },
  {
   "cell_type": "code",
   "execution_count": 1,
   "metadata": {
    "slideshow": {
     "slide_type": "subslide"
    }
   },
   "outputs": [],
   "source": [
    "import numpy as np\n",
    "import pandas as pd\n",
    "import matplotlib.pyplot as plt"
   ]
  },
  {
   "cell_type": "markdown",
   "metadata": {
    "slideshow": {
     "slide_type": "slide"
    }
   },
   "source": [
    "### Relative Parameter\n",
    "![B](img/d8c7c887daa9a709705cdb4ca75d51e.jpg \"APFSDS\")\n",
    "\n",
    "(Referenced from Axial Force Coefficient of APFSDS Projectile)"
   ]
  },
  {
   "cell_type": "markdown",
   "metadata": {
    "slideshow": {
     "slide_type": "slide"
    }
   },
   "source": [
    "Drag Formula for high speed object\n",
    "$$ \\left| \\overrightarrow{F}_{D}\\right| =\\dfrac{1}{2}\\rho C_{D}Av^{2} $$"
   ]
  },
  {
   "cell_type": "markdown",
   "metadata": {
    "slideshow": {
     "slide_type": "slide"
    }
   },
   "source": [
    "### Basic Parameter"
   ]
  },
  {
   "cell_type": "code",
   "execution_count": 2,
   "metadata": {
    "slideshow": {
     "slide_type": "slide"
    }
   },
   "outputs": [],
   "source": [
    "diameter = 0.03 #Unit m\n",
    "length = 0.8 #Unit m\n",
    "iniVelocity = 1740 #Unit m/s\n",
    "sta_horizon = 2400 #Unit m\n",
    "mass = 18.6 #Unit kg\n",
    "density = 1.27 #Unit 1.27kg/m^3\n",
    "c = 0.6 #Drag Coefficient\n",
    "A_g = (diameter * 3.14) / 2\n",
    "\n",
    "g = 9.8 #n/g\n",
    "b = 0.6 #Drag Coefficient\n",
    "height = 2.5 #Unit m\n",
    "\n",
    "gVelocity = 0 #Vertical Initial Velocity\n",
    "XPosition = 0 #Initial X Position\n",
    "netForce = 0 #Initial NetForce\n",
    "time = 0 #Time\n",
    "\n",
    "xData = [] #List Store XPosition\n",
    "yData = [] #List Store YPosition\n",
    "xvel = []"
   ]
  },
  {
   "cell_type": "markdown",
   "metadata": {
    "slideshow": {
     "slide_type": "slide"
    }
   },
   "source": [
    "### Code"
   ]
  },
  {
   "cell_type": "code",
   "execution_count": 3,
   "metadata": {
    "slideshow": {
     "slide_type": "slide"
    }
   },
   "outputs": [],
   "source": [
    "#Ini XVelocity\n",
    "xVelocity = iniVelocity\n",
    "#The Shell will fly 2400m stable\n",
    "while XPosition <= 2400:\n",
    "    #Cal the horizontal drag force\n",
    "    dragForce = density * c * 0.5 * 0.001 * (xVelocity**2)\n",
    "    hacc = -dragForce / mass\n",
    "    #Update velocity and position\n",
    "    xVelocity = xVelocity + hacc * 0.001\n",
    "    xvel.append(xVelocity)\n",
    "    XPosition = XPosition + xVelocity * 0.001\n",
    "    #Store data to list\n",
    "    xData.append(XPosition)\n",
    "    yData.append(2.5)\n",
    "    time += 0.001\n",
    "    \n",
    "while height > 0:\n",
    "    #Cal the vertical drag force\n",
    "    dragForce_v = density * c * 0.5 * A_g * (gVelocity**2)\n",
    "    gravity = mass * g\n",
    "    gAcc = (gravity-dragForce_v) / mass\n",
    "    \n",
    "    #Cal the horizontal drag force\n",
    "    dragForce = density * c * 0.5 * 0.001 * (xVelocity**2)\n",
    "    hacc = -dragForce / mass\n",
    "    #Update velocity and position\n",
    "    gVelocity = gVelocity + gAcc * 0.001\n",
    "    height = height - gVelocity * 0.001\n",
    "    yData.append(height)\n",
    "    #Store data to list\n",
    "    xVelocity = xVelocity + hacc * 0.001\n",
    "    xvel.append(xVelocity)\n",
    "    XPosition = XPosition + xVelocity * 0.001\n",
    "    xData.append(XPosition)\n",
    "    time += 0.001"
   ]
  },
  {
   "cell_type": "code",
   "execution_count": 4,
   "metadata": {
    "slideshow": {
     "slide_type": "slide"
    }
   },
   "outputs": [
    {
     "data": {
      "image/png": "[encoded data removed]",
      "text/plain": [
       "<Figure size 800x320 with 1 Axes>"
      ]
     },
     "metadata": {
      "needs_background": "light"
     },
     "output_type": "display_data"
    }
   ],
   "source": [
    "x = xData #X-Value\n",
    "y = yData #Y-Value\n",
    "plt.figure(\n",
    "    figsize=(10,4),\n",
    "    dpi=80\n",
    ")\n",
    "plt.plot(\n",
    "    x,\n",
    "    y,\n",
    "    color='blue',\n",
    "    markersize=12,\n",
    "    markeredgecolor='g',\n",
    ")\n",
    "plt.title(\"Shell's Position\")\n",
    "plt.xlabel(\"Distance\")\n",
    "plt.ylabel(\"Height\")\n",
    "plt.show()"
   ]
  },
  {
   "cell_type": "code",
   "execution_count": 5,
   "metadata": {
    "slideshow": {
     "slide_type": "slide"
    }
   },
   "outputs": [
    {
     "name": "stdout",
     "output_type": "stream",
     "text": [
      "The Range of the Shell can fly 3570.57 meters\n",
      "With the time of 2.13 seocnds\n"
     ]
    }
   ],
   "source": [
    "print(f\"The Range of the Shell can fly {format(xData[-1],'.2f')} meters\")\n",
    "print(f\"With the time of {format(time,'.2f')} seocnds\")"
   ]
  },
  {
   "cell_type": "code",
   "execution_count": 9,
   "metadata": {
    "slideshow": {
     "slide_type": "slide"
    }
   },
   "outputs": [
    {
     "data": {
      "image/png": "[encoded data removed]",
      "text/plain": [
       "<Figure size 800x320 with 1 Axes>"
      ]
     },
     "metadata": {
      "needs_background": "light"
     },
     "output_type": "display_data"
    }
   ],
   "source": [
    "x = np.arange(0,time,0.001)\n",
    "y = xvel\n",
    "plt.figure(\n",
    "    figsize=(10,4),\n",
    "    dpi=80\n",
    ")\n",
    "plt.plot(\n",
    "    x,\n",
    "    y,\n",
    "    color='blue',\n",
    "    markersize=12,\n",
    "    markeredgecolor='g',\n",
    ")\n",
    "plt.title(\"Shell's Velocity\")\n",
    "plt.xlabel(\"Time\")\n",
    "plt.ylabel(\"Velocity\")\n",
    "plt.show()"
   ]
  },
  {
   "cell_type": "code",
   "execution_count": 7,
   "metadata": {
    "slideshow": {
     "slide_type": "slide"
    }
   },
   "outputs": [
    {
     "data": {
      "image/png": "[encoded data removed]",
      "text/plain": [
       "<Figure size 800x320 with 1 Axes>"
      ]
     },
     "metadata": {
      "needs_background": "light"
     },
     "output_type": "display_data"
    }
   ],
   "source": [
    "x = np.arange(0,time,0.001)\n",
    "y = yData\n",
    "plt.figure(\n",
    "    figsize=(10,4),\n",
    "    dpi=80\n",
    ")\n",
    "plt.plot(\n",
    "    x,\n",
    "    y,\n",
    "    color='blue',\n",
    "    markersize=12,\n",
    "    markeredgecolor='g',\n",
    ")\n",
    "plt.title(\"Shell's Position\")\n",
    "plt.xlabel(\"Time\")\n",
    "plt.ylabel(\"Height\")\n",
    "plt.show()"
   ]
  },
  {
   "cell_type": "markdown",
   "metadata": {},
   "source": [
    "### References\n",
    "https://fbcinc.com/source/Northrop_Resources/120mm_M829A3.pdf\n",
    "https://apps.dtic.mil/sti/pdfs/ADA361333.pdf\n",
    "https://man.fas.org/dod-101/sys/land/m829a1.htm\n",
    "Z. Huang, Z. Chen: Numerical investigation of the tree-dimensional dynamic process of sabot discard, \n",
    "Journal of Mechanical Science and Technology, Vol 28, No 7, 2637-2649, 2014. \n",
    "B. Zečević: Anti-tank Ammunition, Lectures for students, University of Sarajevo, Mechanical engineering \n",
    "faculty, Defense Technologies Department, Sarajevo, 2018. "
   ]
  }
 ],
 "metadata": {
  "celltoolbar": "幻灯片",
  "kernelspec": {
   "display_name": "Python 3 (ipykernel)",
   "language": "python",
   "name": "python3"
  },
  "language_info": {
   "codemirror_mode": {
    "name": "ipython",
    "version": 3
   },
   "file_extension": ".py",
   "mimetype": "text/x-python",
   "name": "python",
   "nbconvert_exporter": "python",
   "pygments_lexer": "ipython3",
   "version": "3.9.13"
  },
  "vscode": {
   "interpreter": {
    "hash": "22c80f1cb90b85197dc3fdfdfdfc84c8d55cf8edc17193f44d31e8f8cae5800b"
   }
  }
 },
 "nbformat": 4,
 "nbformat_minor": 2
}
