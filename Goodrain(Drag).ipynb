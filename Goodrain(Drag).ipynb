{
 "cells": [
  {
   "cell_type": "markdown",
   "metadata": {},
   "source": [
    "### The simulation of APFSDS\n",
    "Armor Piercing Fin Stabilized Discarding Sabot,APFSDS"
   ]
  },
  {
   "cell_type": "markdown",
   "metadata": {},
   "source": [
    "![shell](img\\download.jfif)\n",
    "\n",
    "![shell](img\\ap.jfif)"
   ]
  },
  {
   "cell_type": "markdown",
   "metadata": {},
   "source": [
    "### Import External Modules"
   ]
  },
  {
   "cell_type": "code",
   "execution_count": null,
   "metadata": {},
   "outputs": [],
   "source": [
    "import numpy as np\n",
    "import pandas as pd\n",
    "import matplotlib.pyplot as plt"
   ]
  },
  {
   "cell_type": "markdown",
   "metadata": {},
   "source": [
    "### Relative Parameter\n",
    "![B](img\\d8c7c887daa9a709705cdb4ca75d51e.jpg \"APFSDS\")\n",
    "\n",
    "(Referenced from Axial Force Coefficient of APFSDS Projectile)"
   ]
  },
  {
   "cell_type": "code",
   "execution_count": 30,
   "metadata": {},
   "outputs": [],
   "source": [
    "diameter = 0.03 #Unit m\n",
    "length = 0.8 #Unit m\n",
    "iniVelocity = 1740 #Unit m/s\n",
    "sta_horizon = 2400 #Unit m\n",
    "mass = 18.6 #Unit kg\n",
    "density = 1.27 #Unit 1.27kg/m^3\n",
    "c = 0.6 #Drag Coefficient\n",
    "A_g = (diameter * 3.14) / 2\n",
    "\n",
    "g = 9.8 #n/g\n",
    "b = 0.6 #Drag Coefficient\n",
    "height = 2.5 #Unit m\n",
    "\n",
    "gVelocity = 0 #Vertical Initial Velocity\n",
    "XPosition = 0 #Initial X Position\n",
    "netForce = 0 #Initial NetForce\n",
    "time = 0 #Time\n",
    "\n",
    "xData = [] #List Store XPosition\n",
    "yData = [] #List Store YPosition"
   ]
  },
  {
   "cell_type": "code",
   "execution_count": 31,
   "metadata": {},
   "outputs": [],
   "source": [
    "#Ini XVelocity\n",
    "xVelocity = iniVelocity\n",
    "#The Shell will fly 2400m stable\n",
    "while XPosition <= 2400:\n",
    "    #Cal the horizontal drag force\n",
    "    dragForce = density * c * 0.5 * 0.001 * (xVelocity**2)\n",
    "    hacc = -dragForce / mass\n",
    "    #Update velocity and position\n",
    "    xVelocity = xVelocity + hacc * 0.001\n",
    "    XPosition = XPosition + xVelocity * 0.001\n",
    "    #Store data to list\n",
    "    xData.append(XPosition)\n",
    "    yData.append(2.5)\n",
    "    time += 0.001\n",
    "    \n",
    "while height > 0:\n",
    "    #Cal the vertical drag force\n",
    "    dragForce_v = density * c * 0.5 * A_g * (gVelocity**2)\n",
    "    gravity = mass * g\n",
    "    gAcc = (gravity-dragForce_v) / mass\n",
    "    \n",
    "    #Cal the horizontal drag force\n",
    "    dragForce = density * c * 0.5 * 0.001 * (xVelocity**2)\n",
    "    hacc = -dragForce / mass\n",
    "    #Update velocity and position\n",
    "    gVelocity = gVelocity + gAcc * 0.001\n",
    "    height = height - gVelocity * 0.001\n",
    "    yData.append(height)\n",
    "    #Store data to list\n",
    "    xVelocity = xVelocity + hacc * 0.001\n",
    "    XPosition = XPosition + xVelocity * 0.001\n",
    "    xData.append(XPosition)\n",
    "    time += 0.001"
   ]
  },
  {
   "cell_type": "code",
   "execution_count": 32,
   "metadata": {},
   "outputs": [
    {
     "data": {
      "image/png": "[encoded data removed]",
      "text/plain": [
       "<Figure size 800x320 with 1 Axes>"
      ]
     },
     "metadata": {},
     "output_type": "display_data"
    }
   ],
   "source": [
    "x = xData #X-Value\n",
    "y = yData #Y-Value\n",
    "plt.figure(\n",
    "    figsize=(10,4),\n",
    "    dpi=80\n",
    ")\n",
    "plt.plot(\n",
    "    x,\n",
    "    y,\n",
    "    color='blue',\n",
    "    markersize=12,\n",
    "    markeredgecolor='g',\n",
    ")\n",
    "plt.title(\"Shell's Position\")\n",
    "plt.xlabel(\"Distance\")\n",
    "plt.ylabel(\"Height\")\n",
    "plt.show()"
   ]
  },
  {
   "cell_type": "code",
   "execution_count": 33,
   "metadata": {},
   "outputs": [
    {
     "data": {
      "image/png": "[encoded data removed]",
      "text/plain": [
       "<Figure size 800x320 with 1 Axes>"
      ]
     },
     "metadata": {},
     "output_type": "display_data"
    }
   ],
   "source": [
    "x = np.arange(0,time,0.001)\n",
    "y = yData\n",
    "plt.figure(\n",
    "    figsize=(10,4),\n",
    "    dpi=80\n",
    ")\n",
    "plt.plot(\n",
    "    x,\n",
    "    y,\n",
    "    color='blue',\n",
    "    markersize=12,\n",
    "    markeredgecolor='g',\n",
    ")\n",
    "plt.title(\"Shell's Position\")\n",
    "plt.xlabel(\"Time\")\n",
    "plt.ylabel(\"Height\")\n",
    "plt.show()"
   ]
  },
  {
   "cell_type": "code",
   "execution_count": 34,
   "metadata": {},
   "outputs": [],
   "source": [
    "# diameter = 0.1 #Unit m\n",
    "# h = 0.5 #Unit m\n",
    "# mass = 15.8 #Unit Kg\n",
    "# g = 9.8 #n/g\n",
    "# gravity = mass * g\n",
    "# b = 0.5\n",
    "\n",
    "# height = 2.5\n",
    "# xVelocity = 355 #Unit m/s\n",
    "# gVelocoity = 0\n",
    "# XPosition = 0\n",
    "# netForce = 0\n",
    "# time = 0\n",
    "# xData = []\n",
    "# yData = []\n",
    "\n",
    "\n",
    "# while height > 0:\n",
    "#     dragForce = b * velocity\n",
    "#     gravity = mass * g\n",
    "#     gAcc = gravity / mass\n",
    "    \n",
    "#     gVelocoity = gVelocoity + gAcc * 0.001\n",
    "#     height = height - gVelocoity * 0.001\n",
    "#     yData.append(height)\n",
    "    \n",
    "#     xVelocity = xVelocity + acc * 0.001\n",
    "#     XPosition = XPosition + xVelocity * 0.001\n",
    "#     xData.append(XPosition)\n",
    "    \n",
    "# print(yData[:-1])"
   ]
  },
  {
   "cell_type": "code",
   "execution_count": 35,
   "metadata": {},
   "outputs": [],
   "source": [
    "# height = 2.5\n",
    "# xVelocity = 355 #Unit m/s\n",
    "# gVelocoity = 0\n",
    "# XPosition = 0\n",
    "# netForce = 0\n",
    "# time = 0\n",
    "# xData = []\n",
    "# yData = []\n",
    "\n",
    "\n",
    "# while height > 0:\n",
    "#     dragForce = b * velocity\n",
    "#     gravity = mass * g\n",
    "#     gAcc = gravity / mass\n",
    "    \n",
    "#     gVelocoity = gVelocoity + gAcc * 0.001\n",
    "#     height = height - gVelocoity * 0.001\n",
    "#     yData.append(height)\n",
    "    \n",
    "#     xVelocity = xVelocity + acc * 0.001\n",
    "#     XPosition = XPosition + xVelocity * 0.001\n",
    "#     xData.append(XPosition)\n",
    "    \n",
    "# x = np.arange(0,len(ydata)*0.01,0.01)\n",
    "# plt.figure(\n",
    "#     figsize=(10,4),\n",
    "#     dpi=80\n",
    "# )\n",
    "# plt.plot(\n",
    "#     x,\n",
    "#     data,\n",
    "#     color='blue',\n",
    "#     markersize=12,\n",
    "#     markeredgecolor='g',\n",
    "# )\n",
    "# plt.title(\"Height v.s Time(Fall)\")\n",
    "# plt.xlabel(\"Time(s)\")\n",
    "# plt.ylabel(\"Height\")\n",
    "# plt.show()"
   ]
  }
 ],
 "metadata": {
  "kernelspec": {
   "display_name": "Python 3.9.10 ('base')",
   "language": "python",
   "name": "python3"
  },
  "language_info": {
   "codemirror_mode": {
    "name": "ipython",
    "version": 3
   },
   "file_extension": ".py",
   "mimetype": "text/x-python",
   "name": "python",
   "nbconvert_exporter": "python",
   "pygments_lexer": "ipython3",
   "version": "3.9.10"
  },
  "vscode": {
   "interpreter": {
    "hash": "22c80f1cb90b85197dc3fdfdfdfc84c8d55cf8edc17193f44d31e8f8cae5800b"
   }
  }
 },
 "nbformat": 4,
 "nbformat_minor": 2
}
