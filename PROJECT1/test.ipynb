{
 "cells": [
  {
   "cell_type": "code",
   "execution_count": null,
   "metadata": {},
   "outputs": [],
   "source": [
    "class OBJECT:\n",
    "    def __init__(self):\n",
    "        self.mass = 200 #KG\n",
    "        self.volume = 0.1 #m^3\n",
    "        self.acc = 0 #m/s^2\n",
    "        self.vel = 0 #m/s\n",
    "        self.pos = 0 #m\n",
    "        self.height = 0 #m\n",
    "        self.time = 0 #s\n",
    "        self.density = self.mass/self.volume #kg/m^3\n",
    "        self.vel_data=[]\n",
    "        self.acc_data=[]\n",
    "        self.pos_data=[]\n",
    "    \n",
    "class coil:\n",
    "    def __init__(self):\n",
    "        \n",
    "        pass\n",
    "        \n",
    "class simulation:\n",
    "    def __init__(self):\n",
    "        self.iterations = 1000\n",
    "    \n",
    "    def magnet_force(self):\n",
    "        #calculate magnetic force\n",
    "        pass\n",
    "    \n",
    "    def magnet_flux(self):\n",
    "        #Calculate magnetic flux\n",
    "        pass\n",
    "    \n",
    "    def main(self):\n",
    "        #run simulation here\n",
    "        for i in range(self.iterations):\n",
    "            pass\n",
    "    def get_data(self):\n",
    "        #get data from simulation\n",
    "        super().get_data()\n",
    "        OBJECT.vel_data\n",
    "        OBJECT.acc_data\n",
    "        OBJECT.pos_data\n",
    "        pass"
   ]
  }
 ],
 "metadata": {
  "kernelspec": {
   "display_name": "Python 3.9.10 ('base')",
   "language": "python",
   "name": "python3"
  },
  "language_info": {
   "name": "python",
   "version": "3.9.10"
  },
  "orig_nbformat": 4,
  "vscode": {
   "interpreter": {
    "hash": "22c80f1cb90b85197dc3fdfdfdfc84c8d55cf8edc17193f44d31e8f8cae5800b"
   }
  }
 },
 "nbformat": 4,
 "nbformat_minor": 2
}
